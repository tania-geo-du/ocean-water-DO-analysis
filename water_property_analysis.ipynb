{
 "cells": [
  {
   "cell_type": "markdown",
   "metadata": {},
   "source": [
    "# Fieldwork in Physical Geography\n",
    "\n",
    "During our undergrad, department of Geography and Environment, University of Dhaka, arranged field trip and visited Teknaf and Saint Martin Island.\n",
    "\n",
    "### Introduction\n",
    "\n",
    "I was involved in the project where I analyzed the chemical properties of Saint Martin Island, the largest island in our country. Besides that, I analyzed the temperature of the water on the island in various depths. We collected water samples from different locations of the island, which was one of the toughest jobs in critical weather conditions and ended up some insightful outcomes. We tried to find out the trends between the temperature and the altitude. In every point, the temperature was higher at higher altitudes except the eastern part of the island. Besides, we focused on identifying the patterns of changing the dissolved oxygen with altitude which is mandatory for marine species.\n"
   ]
  },
  {
   "cell_type": "code",
   "execution_count": 7,
   "metadata": {},
   "outputs": [],
   "source": [
    "import seaborn as sns\n",
    "import numpy as np\n",
    "import pandas as pd\n",
    "from pandas import ExcelWriter\n",
    "from pandas import ExcelFile\n",
    "import matplotlib.pyplot as plt\n",
    "sns.set(style=\"whitegrid\")"
   ]
  },
  {
   "cell_type": "code",
   "execution_count": 8,
   "metadata": {},
   "outputs": [],
   "source": [
    "data=pd.read_csv(\"water_sample.csv\")"
   ]
  },
  {
   "cell_type": "markdown",
   "metadata": {},
   "source": [
    "#### Chemical Properties of Ocean Water\n",
    "We collected the chemical properties of water sample like temperature, dissolved oxygen and salinity in five locations in different depths."
   ]
  },
  {
   "cell_type": "code",
   "execution_count": 9,
   "metadata": {},
   "outputs": [
    {
     "data": {
      "text/html": [
       "<div>\n",
       "<style scoped>\n",
       "    .dataframe tbody tr th:only-of-type {\n",
       "        vertical-align: middle;\n",
       "    }\n",
       "\n",
       "    .dataframe tbody tr th {\n",
       "        vertical-align: top;\n",
       "    }\n",
       "\n",
       "    .dataframe thead th {\n",
       "        text-align: right;\n",
       "    }\n",
       "</style>\n",
       "<table border=\"1\" class=\"dataframe\">\n",
       "  <thead>\n",
       "    <tr style=\"text-align: right;\">\n",
       "      <th></th>\n",
       "      <th>Point</th>\n",
       "      <th>Depth</th>\n",
       "      <th>Temperature</th>\n",
       "      <th>Dissolved Oxygen</th>\n",
       "      <th>Salinity</th>\n",
       "    </tr>\n",
       "  </thead>\n",
       "  <tbody>\n",
       "    <tr>\n",
       "      <th>0</th>\n",
       "      <td>1</td>\n",
       "      <td>0 meter</td>\n",
       "      <td>26.8</td>\n",
       "      <td>16.0</td>\n",
       "      <td>5.6</td>\n",
       "    </tr>\n",
       "    <tr>\n",
       "      <th>1</th>\n",
       "      <td>1</td>\n",
       "      <td>5 meter</td>\n",
       "      <td>26.0</td>\n",
       "      <td>19.2</td>\n",
       "      <td>5.1</td>\n",
       "    </tr>\n",
       "    <tr>\n",
       "      <th>2</th>\n",
       "      <td>2</td>\n",
       "      <td>0 meter</td>\n",
       "      <td>26.8</td>\n",
       "      <td>15.2</td>\n",
       "      <td>8.3</td>\n",
       "    </tr>\n",
       "    <tr>\n",
       "      <th>3</th>\n",
       "      <td>2</td>\n",
       "      <td>5 meter</td>\n",
       "      <td>26.7</td>\n",
       "      <td>20.0</td>\n",
       "      <td>8.1</td>\n",
       "    </tr>\n",
       "    <tr>\n",
       "      <th>4</th>\n",
       "      <td>3</td>\n",
       "      <td>0 meter</td>\n",
       "      <td>27.0</td>\n",
       "      <td>17.0</td>\n",
       "      <td>9.8</td>\n",
       "    </tr>\n",
       "    <tr>\n",
       "      <th>5</th>\n",
       "      <td>3</td>\n",
       "      <td>5 meter</td>\n",
       "      <td>26.8</td>\n",
       "      <td>14.5</td>\n",
       "      <td>9.9</td>\n",
       "    </tr>\n",
       "    <tr>\n",
       "      <th>6</th>\n",
       "      <td>4</td>\n",
       "      <td>0 meter</td>\n",
       "      <td>27.9</td>\n",
       "      <td>18.0</td>\n",
       "      <td>8.2</td>\n",
       "    </tr>\n",
       "    <tr>\n",
       "      <th>7</th>\n",
       "      <td>4</td>\n",
       "      <td>5 meter</td>\n",
       "      <td>27.2</td>\n",
       "      <td>16.0</td>\n",
       "      <td>8.4</td>\n",
       "    </tr>\n",
       "    <tr>\n",
       "      <th>8</th>\n",
       "      <td>5</td>\n",
       "      <td>0 meter</td>\n",
       "      <td>28.6</td>\n",
       "      <td>15.3</td>\n",
       "      <td>9.6</td>\n",
       "    </tr>\n",
       "    <tr>\n",
       "      <th>9</th>\n",
       "      <td>5</td>\n",
       "      <td>5 meter</td>\n",
       "      <td>28.0</td>\n",
       "      <td>13.0</td>\n",
       "      <td>9.8</td>\n",
       "    </tr>\n",
       "  </tbody>\n",
       "</table>\n",
       "</div>"
      ],
      "text/plain": [
       "   Point    Depth  Temperature  Dissolved Oxygen  Salinity\n",
       "0      1  0 meter         26.8              16.0       5.6\n",
       "1      1  5 meter         26.0              19.2       5.1\n",
       "2      2  0 meter         26.8              15.2       8.3\n",
       "3      2  5 meter         26.7              20.0       8.1\n",
       "4      3  0 meter         27.0              17.0       9.8\n",
       "5      3  5 meter         26.8              14.5       9.9\n",
       "6      4  0 meter         27.9              18.0       8.2\n",
       "7      4  5 meter         27.2              16.0       8.4\n",
       "8      5  0 meter         28.6              15.3       9.6\n",
       "9      5  5 meter         28.0              13.0       9.8"
      ]
     },
     "execution_count": 9,
     "metadata": {},
     "output_type": "execute_result"
    }
   ],
   "source": [
    "data"
   ]
  },
  {
   "cell_type": "markdown",
   "metadata": {},
   "source": [
    "From the graph below you can observe the temperature changes in different depths. Overall we can observe higher temperature in surface area which is expected."
   ]
  },
  {
   "cell_type": "code",
   "execution_count": 10,
   "metadata": {},
   "outputs": [
    {
     "data": {
      "text/plain": [
       "<seaborn.axisgrid.FacetGrid at 0x7f05ce174be0>"
      ]
     },
     "execution_count": 10,
     "metadata": {},
     "output_type": "execute_result"
    },
    {
     "data": {
      "image/png": "[encoded data removed]",
      "text/plain": [
       "<Figure size 509.1x432 with 1 Axes>"
      ]
     },
     "metadata": {},
     "output_type": "display_data"
    }
   ],
   "source": [
    "titanic = sns.load_dataset(\"titanic\")\n",
    "\n",
    "# Draw a nested barplot to show survival for class and sex\n",
    "g = sns.catplot(y=\"Temperature\", x=\"Point\", hue=\"Depth\", data=data,\n",
    "                height=6, kind=\"bar\", palette=\"muted\")\n",
    "#palette=sns.color_palette(['gray', 'blue'])\n",
    "g.despine(left=True)\n",
    "g.set_ylabels(\"Temperature (°C)\")\n",
    "g.set_xlabels(\"Locations\")"
   ]
  },
  {
   "cell_type": "markdown",
   "metadata": {},
   "source": [
    "From the following observation we can see different behaviors of dissolved water in different locations. In some locations, water in surface are contanied more dissolved oxygen while in othe location more oxygen found in deep. "
   ]
  },
  {
   "cell_type": "code",
   "execution_count": 11,
   "metadata": {},
   "outputs": [
    {
     "data": {
      "text/plain": [
       "<seaborn.axisgrid.FacetGrid at 0x7f05ce16beb8>"
      ]
     },
     "execution_count": 11,
     "metadata": {},
     "output_type": "execute_result"
    },
    {
     "data": {
      "image/png": "[encoded data removed]",
      "text/plain": [
       "<Figure size 509.1x432 with 1 Axes>"
      ]
     },
     "metadata": {},
     "output_type": "display_data"
    }
   ],
   "source": [
    "titanic = sns.load_dataset(\"titanic\")\n",
    "\n",
    "# Draw a nested barplot to show survival for class and sex\n",
    "g = sns.catplot(y=\"Dissolved Oxygen\", x=\"Point\", hue=\"Depth\", data=data,\n",
    "                height=6, kind=\"bar\", palette=\"muted\")\n",
    "#palette=sns.color_palette(['gray', 'blue'])\n",
    "g.despine(left=True)\n",
    "g.set_ylabels(\"Dissolved Oxygen\")"
   ]
  },
  {
   "cell_type": "markdown",
   "metadata": {},
   "source": [
    "The following graph shows about the amount of salinity presents in different locations"
   ]
  },
  {
   "cell_type": "code",
   "execution_count": 12,
   "metadata": {},
   "outputs": [
    {
     "data": {
      "text/plain": [
       "<seaborn.axisgrid.FacetGrid at 0x7f05cdfa8128>"
      ]
     },
     "execution_count": 12,
     "metadata": {},
     "output_type": "execute_result"
    },
    {
     "data": {
      "image/png": "[encoded data removed]",
      "text/plain": [
       "<Figure size 509.1x432 with 1 Axes>"
      ]
     },
     "metadata": {},
     "output_type": "display_data"
    }
   ],
   "source": [
    "# Draw a nested barplot to show survival for class and sex\n",
    "g = sns.catplot(y=\"Salinity\", x=\"Point\", hue=\"Depth\", data=data,\n",
    "                height=6, kind=\"bar\", palette=\"muted\")\n",
    "#palette=sns.color_palette(['gray', 'blue'])\n",
    "g.despine(left=True)\n",
    "g.set_ylabels(\"Salinity\")"
   ]
  },
  {
   "cell_type": "code",
   "execution_count": null,
   "metadata": {},
   "outputs": [],
   "source": []
  }
 ],
 "metadata": {
  "kernelspec": {
   "display_name": "Python 3",
   "language": "python",
   "name": "python3"
  },
  "language_info": {
   "codemirror_mode": {
    "name": "ipython",
    "version": 3
   },
   "file_extension": ".py",
   "mimetype": "text/x-python",
   "name": "python",
   "nbconvert_exporter": "python",
   "pygments_lexer": "ipython3",
   "version": "3.7.3"
  }
 },
 "nbformat": 4,
 "nbformat_minor": 2
}
